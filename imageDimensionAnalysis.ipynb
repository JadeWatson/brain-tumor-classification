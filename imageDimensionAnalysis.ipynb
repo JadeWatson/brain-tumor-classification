{
 "cells": [
  {
   "cell_type": "markdown",
   "source": [
    "# Data Exploration for the Presentation and Report"
   ],
   "metadata": {
    "collapsed": false,
    "pycharm": {
     "name": "#%% md\n"
    }
   }
  },
  {
   "cell_type": "markdown",
   "source": [
    "### Get average image dimension"
   ],
   "metadata": {
    "collapsed": false
   }
  },
  {
   "cell_type": "code",
   "execution_count": 14,
   "outputs": [],
   "source": [
    "import numpy as np\n",
    "import cv2\n",
    "from os import listdir\n",
    "\n",
    "def getAvgImageDimensions(file_dir):\n",
    "    height, totHeight = 0, 0\n",
    "    width, totWidth = 0, 0\n",
    "    channel, totChannel = 0, 0\n",
    "    fileNum = 0\n",
    "    maxHeight, maxWidth= 0, 0\n",
    "    minHeight, minWidth = 1000, 1000\n",
    "\n",
    "    for filename in listdir(file_dir):\n",
    "            # load the image\n",
    "            img = cv2.imread(file_dir + '\\\\' + filename)\n",
    "            # seperately grab the height, width, and channel\n",
    "            height, _, _ = img.shape\n",
    "            _, width, _ = img.shape\n",
    "            _, _, channel = img.shape\n",
    "            # add to total counts\n",
    "            totHeight = totHeight + height\n",
    "            totWidth = totWidth + width\n",
    "            totChannel = totChannel + channel\n",
    "            # check for max\n",
    "            if (maxHeight < height):\n",
    "                maxHeight = height\n",
    "            if (maxWidth < width):\n",
    "                maxWidth = width\n",
    "            # check for min\n",
    "            if (minHeight > height):\n",
    "                minHeight = height\n",
    "            if (minWidth > width):\n",
    "                minWidth = width\n",
    "            # increment filecount\n",
    "            fileNum = fileNum+1\n",
    "\n",
    "    # see average dimensions\n",
    "    print(f\"mean height: {totHeight / fileNum}\")\n",
    "    print(f\"mean width: {totWidth / fileNum}\")\n",
    "    print(f\"mean channels: {totChannel / fileNum}\")\n",
    "\n",
    "    print(f\"min height: {minHeight}\")\n",
    "    print(f\"min width: {minWidth}\")\n",
    "    print(f\"max height: {maxHeight}\")\n",
    "    print(f\"max width: {maxWidth}\")\n"
   ],
   "metadata": {
    "collapsed": false,
    "pycharm": {
     "name": "#%%\n"
    }
   }
  },
  {
   "cell_type": "code",
   "execution_count": 15,
   "outputs": [
    {
     "name": "stdout",
     "output_type": "stream",
     "text": [
      "mean height: 413.7032258064516\n",
      "mean width: 361.23870967741937\n",
      "mean channels: 3.0\n",
      "min height: 173\n",
      "min width: 178\n",
      "max height: 1427\n",
      "max width: 1275\n",
      "mean height: 342.234693877551\n",
      "mean width: 343.16326530612247\n",
      "mean channels: 3.0\n",
      "min height: 168\n",
      "min width: 150\n",
      "max height: 1080\n",
      "max width: 1920\n"
     ]
    }
   ],
   "source": [
    "# for the yes'\n",
    "print(\"for the tumorous:\")\n",
    "getAvgImageDimensions(r'C:\\Users\\jadew\\Documents\\Winter2022\\CMPE351\\FinalProject\\MohamedAliHabib\\yes')\n",
    "# for the no's\n",
    "print(\"for the healthy:\")\n",
    "getAvgImageDimensions(r'C:\\Users\\jadew\\Documents\\Winter2022\\CMPE351\\FinalProject\\MohamedAliHabib\\no')\n"
   ],
   "metadata": {
    "collapsed": false,
    "pycharm": {
     "name": "#%%\n"
    }
   }
  },
  {
   "cell_type": "code",
   "execution_count": 15,
   "outputs": [],
   "source": [],
   "metadata": {
    "collapsed": false,
    "pycharm": {
     "name": "#%%\n"
    }
   }
  }
 ],
 "metadata": {
  "kernelspec": {
   "display_name": "Python 3",
   "language": "python",
   "name": "python3"
  },
  "language_info": {
   "codemirror_mode": {
    "name": "ipython",
    "version": 2
   },
   "file_extension": ".py",
   "mimetype": "text/x-python",
   "name": "python",
   "nbconvert_exporter": "python",
   "pygments_lexer": "ipython2",
   "version": "2.7.6"
  }
 },
 "nbformat": 4,
 "nbformat_minor": 0
}
