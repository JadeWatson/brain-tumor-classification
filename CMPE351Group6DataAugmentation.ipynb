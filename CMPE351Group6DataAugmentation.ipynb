{
 "cells": [
  {
   "cell_type": "markdown",
   "metadata": {},
   "source": [
    "\n"
   ]
  },
  {
   "cell_type": "markdown",
   "source": [
    "# CMPE351 - Group 6 - Brain Tumor MRI Scan Data Augmentation\n",
    "##### Authors: Madison Boem, Caroline Kim, Eric Venditti, Jade Watson\n",
    "\n",
    "Given the original dataset (can be found [here](https://www.kaggle.com/navoneel/brain-mri-images-for-brain-tumor-detection)), we decided to generate more images using data augmentation techniques. This will help improve the accuracy of our CNN and increase its robustness.\n",
    "\n",
    "This will also help to solve the slight imbalance of yes/no tumorous scans. Currently, 61% of the data is non-tumorous."
   ],
   "metadata": {
    "collapsed": false,
    "pycharm": {
     "name": "#%% md\n"
    }
   }
  },
  {
   "cell_type": "markdown",
   "metadata": {},
   "source": [
    "## Importing Libraries"
   ]
  },
  {
   "cell_type": "code",
   "execution_count": 2,
   "metadata": {},
   "outputs": [],
   "source": [
    "from keras.preprocessing.image import ImageDataGenerator\n",
    "import cv2\n",
    "from os import listdir\n",
    "import time\n",
    "%matplotlib inline"
   ]
  },
  {
   "cell_type": "code",
   "execution_count": 3,
   "metadata": {},
   "outputs": [],
   "source": [
    "'''\n",
    "Function to format time\n",
    "Inputs: seconds elapsed\n",
    "Outputs: none (just prints formatted timestring)\n",
    "'''\n",
    "def hms_string(secElapsed):\n",
    "    hour = int(secElapsed / (60 * 60))\n",
    "    minute = int((secElapsed % (60 * 60)) / 60)\n",
    "    second = secElapsed % 60\n",
    "    return f\"{hour}:{minute}:{round(second,1)}\""
   ]
  },
  {
   "cell_type": "markdown",
   "source": [
    "Create a function for augmenting data. Thankfully, tensorflow has a built in function and makes this process painless and incredibly modular.\n",
    "\n",
    "Expressed Terminology:\n",
    "- rotation_range: range for random rotations (in degrees)\n",
    "- width_shift_range: shift, fraction of total width\n",
    "- height_shift_range: shift, fraction of total height\n",
    "- shear_range: shear angle in counter-clockwise direction in degrees\n",
    "- brightness_range: range for randomly choosing a brightness shift\n",
    "- horizonal_flip: randomly flips an image horizontally\n",
    "- vertical_flip: randomly flips an image vertically\n",
    "- fill_mode: how to fill points outside the input, but within the image boundary\n"
   ],
   "metadata": {
    "collapsed": false,
    "pycharm": {
     "name": "#%% md\n"
    }
   }
  },
  {
   "cell_type": "code",
   "execution_count": 4,
   "metadata": {},
   "outputs": [],
   "source": [
    "'''\n",
    "Function to apply data augmentation\n",
    "Inputs: original image directory, number of samples to generate for a given image, directory where the augmented images will be saved\n",
    "Outputs: none (just prints formatted timestring)\n",
    "'''\n",
    "def augment_data(file_dir, n_generated_samples, save_to_dir):\n",
    "\n",
    "    # Specify how the images will be augmented\n",
    "    data_gen = ImageDataGenerator(rotation_range=10, \n",
    "                                  width_shift_range=0.1, \n",
    "                                  height_shift_range=0.1, \n",
    "                                  shear_range=0.1, \n",
    "                                  brightness_range=(0.3, 1.0),\n",
    "                                  horizontal_flip=True, \n",
    "                                  vertical_flip=True, \n",
    "                                  fill_mode='nearest'\n",
    "                                 )\n",
    "\n",
    "    # Loop through all files and apply image transformation\n",
    "    for filename in listdir(file_dir):\n",
    "        # load\n",
    "        image = cv2.imread(file_dir + '\\\\' + filename)\n",
    "        # reshape\n",
    "        image = image.reshape((1,)+image.shape)\n",
    "        # add a prefix for the augmented images\n",
    "        save_prefix = 'aug_' + filename[:-4]\n",
    "        # generate 'n_generated_samples' sample images\n",
    "        i = 0\n",
    "        for batch in data_gen.flow(x=image, batch_size=1, save_to_dir=save_to_dir, save_prefix=save_prefix, save_format='jpg'):\n",
    "            i += 1\n",
    "            if(i > n_generated_samples):\n",
    "                break"
   ]
  },
  {
   "cell_type": "markdown",
   "metadata": {},
   "source": [
    "Now that the augmentation technique is defined, we must decide how many images to generate.\n",
    "\n",
    "Given that 61% of the scans are tumorous (and 39% are healthy):\n",
    "- For each healthy scan, we will create 9 new augmented images\n",
    "- For each tumerous scan, we will create 6 new augmented images\n",
    "\n",
    "This will balance the two classes and create lots of meaningful data."
   ]
  },
  {
   "cell_type": "code",
   "execution_count": 5,
   "metadata": {},
   "outputs": [
    {
     "name": "stdout",
     "output_type": "stream",
     "text": [
      "Elapsed time: 0:1:30.2\n"
     ]
    }
   ],
   "source": [
    "# Time how long the augmentation process takes\n",
    "start_time = time.time()\n",
    "\n",
    "# Path to where augmented images will be stored\n",
    "augmented_data_path = r'C:\\Users\\jadew\\Documents\\Winter2022\\CMPE351\\FinalProject\\MohamedAliHabib\\augmented'\n",
    "\n",
    "# Path to original yes/no folders\n",
    "yes_path = r'C:\\Users\\jadew\\Documents\\Winter2022\\CMPE351\\FinalProject\\MohamedAliHabib\\yes'\n",
    "no_path = r'C:\\Users\\jadew\\Documents\\Winter2022\\CMPE351\\FinalProject\\MohamedAliHabib\\no'\n",
    "\n",
    "# Augment data tumorous scans\n",
    "augment_data(file_dir=yes_path, n_generated_samples=6, save_to_dir=augmented_data_path+r'\\yes')\n",
    "# Augment data healthy scans\n",
    "augment_data(file_dir=no_path, n_generated_samples=9, save_to_dir=augmented_data_path+r'\\no')\n",
    "\n",
    "# Stop the timer and display execution time\n",
    "end_time = time.time()\n",
    "execution_time = (end_time - start_time)\n",
    "print(f\"Elapsed time: {hms_string(execution_time)}\")"
   ]
  },
  {
   "cell_type": "markdown",
   "metadata": {},
   "source": [
    "Confirm that the images have been generated."
   ]
  },
  {
   "cell_type": "code",
   "execution_count": 8,
   "metadata": {},
   "outputs": [
    {
     "name": "stdout",
     "output_type": "stream",
     "text": [
      "Number of examples: 4379\n",
      "Percentage of tumorous scans: 53.02580497830555%\n",
      "Number of tumorous scans: 2322\n",
      "Percentage of healthy scans: 46.97419502169445%\n",
      "Number of healthy scans: 2057\n"
     ]
    }
   ],
   "source": [
    "# Number of tumorous scans (original + augmented)\n",
    "m_pos = len(listdir(augmented_data_path + r'\\yes'))\n",
    "# Number of healthy scans (original + augmented)\n",
    "m_neg = len(listdir(augmented_data_path + r'\\no'))\n",
    "# All scans\n",
    "m = (m_pos+m_neg)\n",
    "\n",
    "# Calculate the percentage of each\n",
    "pos_prec = (m_pos* 100.0)/ m\n",
    "neg_prec = (m_neg* 100.0)/ m\n",
    "\n",
    "print(f\"Number of examples: {m}\")\n",
    "print(f\"Percentage of tumorous scans: {pos_prec}%\")\n",
    "print(f\"Number of tumorous scans: {m_pos}\")\n",
    "print(f\"Percentage of healthy scans: {neg_prec}%\")\n",
    "print(f\"Number of healthy scans: {m_neg}\")"
   ]
  },
  {
   "cell_type": "markdown",
   "metadata": {
    "pycharm": {
     "name": "#%% md\n"
    }
   },
   "source": [
    "Now, we can use these images to train the CNN!"
   ]
  },
  {
   "cell_type": "code",
   "execution_count": null,
   "outputs": [],
   "source": [],
   "metadata": {
    "collapsed": false,
    "pycharm": {
     "name": "#%%\n"
    }
   }
  }
 ],
 "metadata": {
  "kernelspec": {
   "display_name": "Python 3",
   "language": "python",
   "name": "python3"
  },
  "language_info": {
   "codemirror_mode": {
    "name": "ipython",
    "version": 3
   },
   "file_extension": ".py",
   "mimetype": "text/x-python",
   "name": "python",
   "nbconvert_exporter": "python",
   "pygments_lexer": "ipython3",
   "version": "3.6.7"
  }
 },
 "nbformat": 4,
 "nbformat_minor": 2
}
